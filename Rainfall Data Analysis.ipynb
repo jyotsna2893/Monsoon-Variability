{
 "cells": [
  {
   "cell_type": "code",
   "execution_count": 1,
   "metadata": {},
   "outputs": [
    {
     "name": "stderr",
     "output_type": "stream",
     "text": [
      "C:\\Users\\HP\\Anaconda3\\lib\\site-packages\\statsmodels\\tools\\_testing.py:19: FutureWarning: pandas.util.testing is deprecated. Use the functions in the public API at pandas.testing instead.\n",
      "  import pandas.util.testing as tm\n"
     ]
    }
   ],
   "source": [
    "import pandas as pd\n",
    "import matplotlib.pyplot as plt\n",
    "from scipy import stats\n",
    "import numpy as np\n",
    "import pymannkendall as mk\n",
    "from statsmodels.graphics.tsaplots import plot_acf"
   ]
  },
  {
   "cell_type": "code",
   "execution_count": 2,
   "metadata": {},
   "outputs": [],
   "source": [
    "rainfall_data = pd.read_excel('india___monthly_rainfall_data___1901_to_2002.xlsx')"
   ]
  },
  {
   "cell_type": "markdown",
   "metadata": {},
   "source": [
    "# 1. Rainfall Data Analysis for Srikakulam District Andhra Pradesh"
   ]
  },
  {
   "cell_type": "code",
   "execution_count": 3,
   "metadata": {},
   "outputs": [],
   "source": [
    "df = rainfall_data.loc[(rainfall_data['State']== 'Andhra Pradesh') & (rainfall_data['District']=='Srikakulam')].reset_index().drop(['index', 'vlookup'], axis=1)"
   ]
  },
  {
   "cell_type": "markdown",
   "metadata": {},
   "source": [
    "## 1.1 Yearly Rainfall Analysis "
   ]
  },
  {
   "cell_type": "code",
   "execution_count": 4,
   "metadata": {},
   "outputs": [],
   "source": [
    "columns_to_sum = ['Jan', 'Feb', 'Mar', 'Apr', 'May', 'Jun','Jul', 'Aug', 'Sep', 'Oct', 'Nov', 'Dec']"
   ]
  },
  {
   "cell_type": "code",
   "execution_count": 5,
   "metadata": {},
   "outputs": [],
   "source": [
    "df.loc[:, 'yearly_rainfall'] = df[columns_to_sum].sum(axis=1)"
   ]
  },
  {
   "cell_type": "code",
   "execution_count": 6,
   "metadata": {},
   "outputs": [
    {
     "data": {
      "text/html": [
       "<div>\n",
       "<style scoped>\n",
       "    .dataframe tbody tr th:only-of-type {\n",
       "        vertical-align: middle;\n",
       "    }\n",
       "\n",
       "    .dataframe tbody tr th {\n",
       "        vertical-align: top;\n",
       "    }\n",
       "\n",
       "    .dataframe thead th {\n",
       "        text-align: right;\n",
       "    }\n",
       "</style>\n",
       "<table border=\"1\" class=\"dataframe\">\n",
       "  <thead>\n",
       "    <tr style=\"text-align: right;\">\n",
       "      <th></th>\n",
       "      <th>State</th>\n",
       "      <th>District</th>\n",
       "      <th>Year</th>\n",
       "      <th>Jan</th>\n",
       "      <th>Feb</th>\n",
       "      <th>Mar</th>\n",
       "      <th>Apr</th>\n",
       "      <th>May</th>\n",
       "      <th>Jun</th>\n",
       "      <th>Jul</th>\n",
       "      <th>Aug</th>\n",
       "      <th>Sep</th>\n",
       "      <th>Oct</th>\n",
       "      <th>Nov</th>\n",
       "      <th>Dec</th>\n",
       "      <th>yearly_rainfall</th>\n",
       "    </tr>\n",
       "  </thead>\n",
       "  <tbody>\n",
       "    <tr>\n",
       "      <th>0</th>\n",
       "      <td>Andhra Pradesh</td>\n",
       "      <td>Srikakulam</td>\n",
       "      <td>1901.0</td>\n",
       "      <td>41.729</td>\n",
       "      <td>22.540</td>\n",
       "      <td>2.883</td>\n",
       "      <td>5.542</td>\n",
       "      <td>69.155</td>\n",
       "      <td>53.436</td>\n",
       "      <td>79.980</td>\n",
       "      <td>72.136</td>\n",
       "      <td>202.187</td>\n",
       "      <td>126.637</td>\n",
       "      <td>280.159</td>\n",
       "      <td>0.950</td>\n",
       "      <td>957.334</td>\n",
       "    </tr>\n",
       "    <tr>\n",
       "      <th>1</th>\n",
       "      <td>Andhra Pradesh</td>\n",
       "      <td>Srikakulam</td>\n",
       "      <td>1902.0</td>\n",
       "      <td>6.231</td>\n",
       "      <td>0.025</td>\n",
       "      <td>1.230</td>\n",
       "      <td>10.122</td>\n",
       "      <td>46.258</td>\n",
       "      <td>96.080</td>\n",
       "      <td>130.709</td>\n",
       "      <td>209.028</td>\n",
       "      <td>161.785</td>\n",
       "      <td>100.428</td>\n",
       "      <td>8.530</td>\n",
       "      <td>28.396</td>\n",
       "      <td>798.822</td>\n",
       "    </tr>\n",
       "    <tr>\n",
       "      <th>2</th>\n",
       "      <td>Andhra Pradesh</td>\n",
       "      <td>Srikakulam</td>\n",
       "      <td>1903.0</td>\n",
       "      <td>1.295</td>\n",
       "      <td>7.861</td>\n",
       "      <td>0.650</td>\n",
       "      <td>2.282</td>\n",
       "      <td>15.254</td>\n",
       "      <td>134.933</td>\n",
       "      <td>284.154</td>\n",
       "      <td>99.159</td>\n",
       "      <td>173.063</td>\n",
       "      <td>116.758</td>\n",
       "      <td>71.856</td>\n",
       "      <td>9.692</td>\n",
       "      <td>916.957</td>\n",
       "    </tr>\n",
       "    <tr>\n",
       "      <th>3</th>\n",
       "      <td>Andhra Pradesh</td>\n",
       "      <td>Srikakulam</td>\n",
       "      <td>1904.0</td>\n",
       "      <td>0.383</td>\n",
       "      <td>0.461</td>\n",
       "      <td>2.378</td>\n",
       "      <td>0.858</td>\n",
       "      <td>106.056</td>\n",
       "      <td>97.314</td>\n",
       "      <td>127.274</td>\n",
       "      <td>225.318</td>\n",
       "      <td>186.265</td>\n",
       "      <td>159.421</td>\n",
       "      <td>0.683</td>\n",
       "      <td>12.428</td>\n",
       "      <td>918.839</td>\n",
       "    </tr>\n",
       "    <tr>\n",
       "      <th>4</th>\n",
       "      <td>Andhra Pradesh</td>\n",
       "      <td>Srikakulam</td>\n",
       "      <td>1905.0</td>\n",
       "      <td>1.151</td>\n",
       "      <td>29.107</td>\n",
       "      <td>26.146</td>\n",
       "      <td>122.885</td>\n",
       "      <td>132.909</td>\n",
       "      <td>57.393</td>\n",
       "      <td>139.559</td>\n",
       "      <td>176.908</td>\n",
       "      <td>307.734</td>\n",
       "      <td>39.765</td>\n",
       "      <td>2.864</td>\n",
       "      <td>0.045</td>\n",
       "      <td>1036.466</td>\n",
       "    </tr>\n",
       "  </tbody>\n",
       "</table>\n",
       "</div>"
      ],
      "text/plain": [
       "            State    District    Year     Jan     Feb     Mar      Apr  \\\n",
       "0  Andhra Pradesh  Srikakulam  1901.0  41.729  22.540   2.883    5.542   \n",
       "1  Andhra Pradesh  Srikakulam  1902.0   6.231   0.025   1.230   10.122   \n",
       "2  Andhra Pradesh  Srikakulam  1903.0   1.295   7.861   0.650    2.282   \n",
       "3  Andhra Pradesh  Srikakulam  1904.0   0.383   0.461   2.378    0.858   \n",
       "4  Andhra Pradesh  Srikakulam  1905.0   1.151  29.107  26.146  122.885   \n",
       "\n",
       "       May      Jun      Jul      Aug      Sep      Oct      Nov     Dec  \\\n",
       "0   69.155   53.436   79.980   72.136  202.187  126.637  280.159   0.950   \n",
       "1   46.258   96.080  130.709  209.028  161.785  100.428    8.530  28.396   \n",
       "2   15.254  134.933  284.154   99.159  173.063  116.758   71.856   9.692   \n",
       "3  106.056   97.314  127.274  225.318  186.265  159.421    0.683  12.428   \n",
       "4  132.909   57.393  139.559  176.908  307.734   39.765    2.864   0.045   \n",
       "\n",
       "   yearly_rainfall  \n",
       "0          957.334  \n",
       "1          798.822  \n",
       "2          916.957  \n",
       "3          918.839  \n",
       "4         1036.466  "
      ]
     },
     "execution_count": 6,
     "metadata": {},
     "output_type": "execute_result"
    }
   ],
   "source": [
    "df.head()"
   ]
  },
  {
   "cell_type": "code",
   "execution_count": 7,
   "metadata": {
    "scrolled": true
   },
   "outputs": [
    {
     "data": {
      "text/plain": [
       "Text(0.5, 0.98, 'Yearly Rainfall in Srikakulam (A.P.) (1901-2002)')"
      ]
     },
     "execution_count": 7,
     "metadata": {},
     "output_type": "execute_result"
    },
    {
     "data": {
      "image/png": "[encoded data removed]",
      "text/plain": [
       "<Figure size 504x360 with 1 Axes>"
      ]
     },
     "metadata": {
      "needs_background": "light"
     },
     "output_type": "display_data"
    }
   ],
   "source": [
    "fig1 = plt.figure(figsize=[7,5])\n",
    "ax = plt.axes()\n",
    "x = df['Year'].to_list()\n",
    "y = df['yearly_rainfall'].to_list()\n",
    "plt.xlabel(\"Year\")\n",
    "plt.ylabel(\"Yearly Rainfall (mm)\")\n",
    "ax.plot(x, y)\n",
    "fig1.suptitle('Yearly Rainfall in Srikakulam (A.P.) (1901-2002)', fontsize=16)"
   ]
  },
  {
   "cell_type": "markdown",
   "metadata": {},
   "source": [
    "As we can see from the above plot the rainfall data for Srikakulam district is very random. There is no clear treand or pattern visible at one glance."
   ]
  },
  {
   "cell_type": "markdown",
   "metadata": {},
   "source": [
    "### 1.1.1 Autocorrelation Test"
   ]
  },
  {
   "cell_type": "code",
   "execution_count": 8,
   "metadata": {},
   "outputs": [],
   "source": [
    "data = np.array(df['yearly_rainfall'])"
   ]
  },
  {
   "cell_type": "code",
   "execution_count": 9,
   "metadata": {},
   "outputs": [
    {
     "data": {
      "image/png": "[encoded data removed]",
      "text/plain": [
       "<Figure size 432x288 with 1 Axes>"
      ]
     },
     "metadata": {
      "needs_background": "light"
     },
     "output_type": "display_data"
    }
   ],
   "source": [
    "plot_acf(data)\n",
    "plt.xlabel(\"Lag after k years\")\n",
    "plt.ylabel(\"Correlation coefficient\")\n",
    "plt.show()"
   ]
  },
  {
   "cell_type": "markdown",
   "metadata": {},
   "source": [
    "As we can see in the above auto-correlation plot, there is no significant correlation between rainfall in consecutive years."
   ]
  },
  {
   "cell_type": "markdown",
   "metadata": {},
   "source": [
    "### 1.1.2 Mann-Kendall Test"
   ]
  },
  {
   "cell_type": "code",
   "execution_count": 10,
   "metadata": {},
   "outputs": [],
   "source": [
    "result = mk.original_test(data)"
   ]
  },
  {
   "cell_type": "code",
   "execution_count": 11,
   "metadata": {},
   "outputs": [
    {
     "data": {
      "text/plain": [
       "Mann_Kendall_Test(trend='no trend', h=False, p=0.4627014990114473, z=0.73440572437457, Tau=0.04950495049504951, s=255.0, var_s=119617.66666666667, slope=0.4187500000000049, intercept=906.5771249999997)"
      ]
     },
     "execution_count": 11,
     "metadata": {},
     "output_type": "execute_result"
    }
   ],
   "source": [
    "result"
   ]
  },
  {
   "cell_type": "code",
   "execution_count": 12,
   "metadata": {},
   "outputs": [
    {
     "data": {
      "text/plain": [
       "0.73440572437457"
      ]
     },
     "execution_count": 12,
     "metadata": {},
     "output_type": "execute_result"
    }
   ],
   "source": [
    "z = result.z\n",
    "z"
   ]
  },
  {
   "cell_type": "code",
   "execution_count": 13,
   "metadata": {},
   "outputs": [
    {
     "data": {
      "text/plain": [
       "'no trend'"
      ]
     },
     "execution_count": 13,
     "metadata": {},
     "output_type": "execute_result"
    }
   ],
   "source": [
    "trend = result.trend\n",
    "trend"
   ]
  },
  {
   "cell_type": "markdown",
   "metadata": {},
   "source": [
    "### 1.1.3 Sen's Slope"
   ]
  },
  {
   "cell_type": "code",
   "execution_count": 14,
   "metadata": {},
   "outputs": [
    {
     "data": {
      "text/plain": [
       "0.4187500000000049"
      ]
     },
     "execution_count": 14,
     "metadata": {},
     "output_type": "execute_result"
    }
   ],
   "source": [
    "sen_slope_mk_test = result.slope\n",
    "sen_slope_mk_test"
   ]
  },
  {
   "cell_type": "markdown",
   "metadata": {},
   "source": [
    "### 1.1.4 Linear Regression"
   ]
  },
  {
   "cell_type": "code",
   "execution_count": 15,
   "metadata": {},
   "outputs": [],
   "source": [
    "lin_reg = stats.linregress(x, y)"
   ]
  },
  {
   "cell_type": "code",
   "execution_count": 16,
   "metadata": {},
   "outputs": [
    {
     "data": {
      "text/plain": [
       "LinregressResult(slope=0.505122820905734, intercept=-33.83267519361834, rvalue=0.08621057915183136, pvalue=0.38893028765538706, stderr=0.5837360356302442)"
      ]
     },
     "execution_count": 16,
     "metadata": {},
     "output_type": "execute_result"
    }
   ],
   "source": [
    "lin_reg"
   ]
  },
  {
   "cell_type": "code",
   "execution_count": 17,
   "metadata": {},
   "outputs": [],
   "source": [
    "slope = lin_reg.slope\n",
    "intercept = lin_reg.intercept\n",
    "R_squared = (lin_reg.rvalue)**2"
   ]
  },
  {
   "cell_type": "code",
   "execution_count": 18,
   "metadata": {},
   "outputs": [
    {
     "name": "stdout",
     "output_type": "stream",
     "text": [
      "Slope : 0.505122820905734 \n",
      "Intercept : -33.83267519361834 \n",
      "R_squared : 0.007432263957694181\n"
     ]
    }
   ],
   "source": [
    "print('Slope :', slope, '\\nIntercept :', intercept, '\\nR_squared :', R_squared)"
   ]
  },
  {
   "cell_type": "markdown",
   "metadata": {},
   "source": [
    "## 1.2 Monsoon Season Rainfall Data Analysis for Srikakulam (1993-2002)"
   ]
  },
  {
   "cell_type": "code",
   "execution_count": 19,
   "metadata": {},
   "outputs": [],
   "source": [
    "monsoon_months = ['Jun','Jul', 'Aug', 'Sep']"
   ]
  },
  {
   "cell_type": "code",
   "execution_count": 20,
   "metadata": {},
   "outputs": [],
   "source": [
    "df['total_rain_in_monsoon'] = df[monsoon_months].sum(axis=1)"
   ]
  },
  {
   "cell_type": "code",
   "execution_count": 21,
   "metadata": {
    "scrolled": false
   },
   "outputs": [
    {
     "data": {
      "text/plain": [
       "Text(0.5, 0.98, 'Rainfall in Monsoon months in Srikakulam (A.P.) (1901-2002)')"
      ]
     },
     "execution_count": 21,
     "metadata": {},
     "output_type": "execute_result"
    },
    {
     "data": {
      "image/png": "[encoded data removed]",
      "text/plain": [
       "<Figure size 504x360 with 1 Axes>"
      ]
     },
     "metadata": {
      "needs_background": "light"
     },
     "output_type": "display_data"
    }
   ],
   "source": [
    "fig1 = plt.figure(figsize=[7,5])\n",
    "ax = plt.axes()\n",
    "x1 = df['Year'].to_list()\n",
    "y1 = df['total_rain_in_monsoon'].to_list()\n",
    "plt.xlabel(\"Year\")\n",
    "plt.ylabel(\"Monsoon Rainfall (mm)\")\n",
    "ax.plot(x1, y1)\n",
    "fig1.suptitle('Rainfall in Monsoon months in Srikakulam (A.P.) (1901-2002)', fontsize=16)"
   ]
  },
  {
   "cell_type": "code",
   "execution_count": 22,
   "metadata": {},
   "outputs": [],
   "source": [
    "df_10yrs = df.tail(10)"
   ]
  },
  {
   "cell_type": "code",
   "execution_count": 23,
   "metadata": {},
   "outputs": [
    {
     "data": {
      "text/html": [
       "<div>\n",
       "<style scoped>\n",
       "    .dataframe tbody tr th:only-of-type {\n",
       "        vertical-align: middle;\n",
       "    }\n",
       "\n",
       "    .dataframe tbody tr th {\n",
       "        vertical-align: top;\n",
       "    }\n",
       "\n",
       "    .dataframe thead th {\n",
       "        text-align: right;\n",
       "    }\n",
       "</style>\n",
       "<table border=\"1\" class=\"dataframe\">\n",
       "  <thead>\n",
       "    <tr style=\"text-align: right;\">\n",
       "      <th></th>\n",
       "      <th>State</th>\n",
       "      <th>District</th>\n",
       "      <th>Year</th>\n",
       "      <th>Jan</th>\n",
       "      <th>Feb</th>\n",
       "      <th>Mar</th>\n",
       "      <th>Apr</th>\n",
       "      <th>May</th>\n",
       "      <th>Jun</th>\n",
       "      <th>Jul</th>\n",
       "      <th>Aug</th>\n",
       "      <th>Sep</th>\n",
       "      <th>Oct</th>\n",
       "      <th>Nov</th>\n",
       "      <th>Dec</th>\n",
       "      <th>yearly_rainfall</th>\n",
       "      <th>total_rain_in_monsoon</th>\n",
       "    </tr>\n",
       "  </thead>\n",
       "  <tbody>\n",
       "    <tr>\n",
       "      <th>92</th>\n",
       "      <td>Andhra Pradesh</td>\n",
       "      <td>Srikakulam</td>\n",
       "      <td>1993.0</td>\n",
       "      <td>4.262</td>\n",
       "      <td>0.018</td>\n",
       "      <td>6.019</td>\n",
       "      <td>34.471</td>\n",
       "      <td>48.012</td>\n",
       "      <td>124.547</td>\n",
       "      <td>103.278</td>\n",
       "      <td>149.134</td>\n",
       "      <td>185.809</td>\n",
       "      <td>315.741</td>\n",
       "      <td>11.875</td>\n",
       "      <td>0.010</td>\n",
       "      <td>983.176</td>\n",
       "      <td>562.768</td>\n",
       "    </tr>\n",
       "    <tr>\n",
       "      <th>93</th>\n",
       "      <td>Andhra Pradesh</td>\n",
       "      <td>Srikakulam</td>\n",
       "      <td>1994.0</td>\n",
       "      <td>0.355</td>\n",
       "      <td>3.492</td>\n",
       "      <td>18.267</td>\n",
       "      <td>26.927</td>\n",
       "      <td>41.781</td>\n",
       "      <td>62.723</td>\n",
       "      <td>237.334</td>\n",
       "      <td>156.720</td>\n",
       "      <td>132.478</td>\n",
       "      <td>228.748</td>\n",
       "      <td>62.226</td>\n",
       "      <td>0.010</td>\n",
       "      <td>971.061</td>\n",
       "      <td>589.255</td>\n",
       "    </tr>\n",
       "    <tr>\n",
       "      <th>94</th>\n",
       "      <td>Andhra Pradesh</td>\n",
       "      <td>Srikakulam</td>\n",
       "      <td>1995.0</td>\n",
       "      <td>18.854</td>\n",
       "      <td>1.412</td>\n",
       "      <td>13.893</td>\n",
       "      <td>18.112</td>\n",
       "      <td>41.059</td>\n",
       "      <td>68.713</td>\n",
       "      <td>163.383</td>\n",
       "      <td>99.467</td>\n",
       "      <td>150.612</td>\n",
       "      <td>449.728</td>\n",
       "      <td>78.775</td>\n",
       "      <td>0.010</td>\n",
       "      <td>1104.018</td>\n",
       "      <td>482.175</td>\n",
       "    </tr>\n",
       "    <tr>\n",
       "      <th>95</th>\n",
       "      <td>Andhra Pradesh</td>\n",
       "      <td>Srikakulam</td>\n",
       "      <td>1996.0</td>\n",
       "      <td>1.940</td>\n",
       "      <td>0.961</td>\n",
       "      <td>2.003</td>\n",
       "      <td>37.979</td>\n",
       "      <td>34.273</td>\n",
       "      <td>250.663</td>\n",
       "      <td>63.414</td>\n",
       "      <td>175.686</td>\n",
       "      <td>132.802</td>\n",
       "      <td>256.308</td>\n",
       "      <td>29.970</td>\n",
       "      <td>6.151</td>\n",
       "      <td>992.150</td>\n",
       "      <td>622.565</td>\n",
       "    </tr>\n",
       "    <tr>\n",
       "      <th>96</th>\n",
       "      <td>Andhra Pradesh</td>\n",
       "      <td>Srikakulam</td>\n",
       "      <td>1997.0</td>\n",
       "      <td>10.321</td>\n",
       "      <td>2.334</td>\n",
       "      <td>43.171</td>\n",
       "      <td>45.623</td>\n",
       "      <td>6.876</td>\n",
       "      <td>57.118</td>\n",
       "      <td>207.190</td>\n",
       "      <td>144.582</td>\n",
       "      <td>197.365</td>\n",
       "      <td>77.047</td>\n",
       "      <td>81.508</td>\n",
       "      <td>16.559</td>\n",
       "      <td>889.694</td>\n",
       "      <td>606.255</td>\n",
       "    </tr>\n",
       "  </tbody>\n",
       "</table>\n",
       "</div>"
      ],
      "text/plain": [
       "             State    District    Year     Jan    Feb     Mar     Apr     May  \\\n",
       "92  Andhra Pradesh  Srikakulam  1993.0   4.262  0.018   6.019  34.471  48.012   \n",
       "93  Andhra Pradesh  Srikakulam  1994.0   0.355  3.492  18.267  26.927  41.781   \n",
       "94  Andhra Pradesh  Srikakulam  1995.0  18.854  1.412  13.893  18.112  41.059   \n",
       "95  Andhra Pradesh  Srikakulam  1996.0   1.940  0.961   2.003  37.979  34.273   \n",
       "96  Andhra Pradesh  Srikakulam  1997.0  10.321  2.334  43.171  45.623   6.876   \n",
       "\n",
       "        Jun      Jul      Aug      Sep      Oct     Nov     Dec  \\\n",
       "92  124.547  103.278  149.134  185.809  315.741  11.875   0.010   \n",
       "93   62.723  237.334  156.720  132.478  228.748  62.226   0.010   \n",
       "94   68.713  163.383   99.467  150.612  449.728  78.775   0.010   \n",
       "95  250.663   63.414  175.686  132.802  256.308  29.970   6.151   \n",
       "96   57.118  207.190  144.582  197.365   77.047  81.508  16.559   \n",
       "\n",
       "    yearly_rainfall  total_rain_in_monsoon  \n",
       "92          983.176                562.768  \n",
       "93          971.061                589.255  \n",
       "94         1104.018                482.175  \n",
       "95          992.150                622.565  \n",
       "96          889.694                606.255  "
      ]
     },
     "execution_count": 23,
     "metadata": {},
     "output_type": "execute_result"
    }
   ],
   "source": [
    "df_10yrs.head()"
   ]
  },
  {
   "cell_type": "code",
   "execution_count": 24,
   "metadata": {},
   "outputs": [
    {
     "data": {
      "text/plain": [
       "Text(0.5, 0.98, 'Rainfall in Monsoon months in Srikakulam (A.P.) (1993-2002)')"
      ]
     },
     "execution_count": 24,
     "metadata": {},
     "output_type": "execute_result"
    },
    {
     "data": {
      "image/png": "[encoded data removed]",
      "text/plain": [
       "<Figure size 504x360 with 1 Axes>"
      ]
     },
     "metadata": {
      "needs_background": "light"
     },
     "output_type": "display_data"
    }
   ],
   "source": [
    "fig1 = plt.figure(figsize=[7,5])\n",
    "ax = plt.axes()\n",
    "x2 = df_10yrs['Year'].to_list()\n",
    "y2 = df_10yrs['total_rain_in_monsoon'].to_list()\n",
    "plt.xlabel(\"Year\")\n",
    "plt.ylabel(\"Monsoon Rainfall (mm)\")\n",
    "plt.plot(x2, y2, linestyle='dashed', marker='s');\n",
    "fig1.suptitle('Rainfall in Monsoon months in Srikakulam (A.P.) (1993-2002)', fontsize=16)"
   ]
  },
  {
   "cell_type": "markdown",
   "metadata": {},
   "source": [
    "### 1.2.1 Co-efficient of Variability"
   ]
  },
  {
   "cell_type": "code",
   "execution_count": 25,
   "metadata": {},
   "outputs": [],
   "source": [
    "CV = (df_10yrs['total_rain_in_monsoon'].std())/(df_10yrs['total_rain_in_monsoon'].mean())"
   ]
  },
  {
   "cell_type": "code",
   "execution_count": 26,
   "metadata": {},
   "outputs": [
    {
     "data": {
      "text/plain": [
       "0.1309844978530418"
      ]
     },
     "execution_count": 26,
     "metadata": {},
     "output_type": "execute_result"
    }
   ],
   "source": [
    "CV"
   ]
  }
 ],
 "metadata": {
  "kernelspec": {
   "display_name": "Python 3",
   "language": "python",
   "name": "python3"
  },
  "language_info": {
   "codemirror_mode": {
    "name": "ipython",
    "version": 3
   },
   "file_extension": ".py",
   "mimetype": "text/x-python",
   "name": "python",
   "nbconvert_exporter": "python",
   "pygments_lexer": "ipython3",
   "version": "3.7.4"
  }
 },
 "nbformat": 4,
 "nbformat_minor": 2
}
